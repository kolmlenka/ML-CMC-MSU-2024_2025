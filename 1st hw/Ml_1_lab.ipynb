{
 "cells": [
  {
   "cell_type": "code",
   "execution_count": 69,
   "id": "ccdf9b8b-2ba0-4872-a6a2-2655a35e6d20",
   "metadata": {},
   "outputs": [
    {
     "name": "stdout",
     "output_type": "stream",
     "text": [
      "Hello!\n",
      "Hello, Masha!\n",
      "Hello,  !\n",
      "Hello, 123!\n",
      "Hello, I love machine learning!\n"
     ]
    }
   ],
   "source": [
    "#Task 1\n",
    "def hello(x:str = None)->str:\n",
    "    if (x is None or x == \"\"):\n",
    "        return \"Hello!\"\n",
    "    else:\n",
    "        return \"Hello, \" + x + \"!\"\n",
    "print(hello())\n",
    "print(hello('Masha'))\n",
    "print(hello(\" \"))\n",
    "print(hello('123'))\n",
    "print(hello(\"I love machine learning\"))"
   ]
  },
  {
   "cell_type": "code",
   "execution_count": 103,
   "id": "4348c6e8-6d6c-4ac3-8764-b2cd7935fe62",
   "metadata": {},
   "outputs": [
    {
     "name": "stdout",
     "output_type": "stream",
     "text": [
      "IV\n",
      "XX\n",
      "CCCXXVIII\n"
     ]
    }
   ],
   "source": [
    "#Task 2 ДОДЕЛАТЬ\n",
    "def int_to_roman(x:int)->str:\n",
    "    if (x < 1 or x > 3999):\n",
    "        return -1\n",
    "    else:\n",
    "        result = \"\"\n",
    "        relation = [('I', 1), ('IV', 4), ('V', 5), ('IX', 9), ('X', 10), ('XL', 40), ('L', 50),\n",
    "                    ('XC', 90), ('C', 100), ('CD', 400), ('D', 500), ('CM', 900), ('M', 1000)]\n",
    "        for roman, arabic in reversed(relation):\n",
    "            result += x // arabic * roman\n",
    "            x %= arabic\n",
    "        return result\n",
    "\n",
    "print(int_to_roman(4))\n",
    "print(int_to_roman(20))\n",
    "print(int_to_roman(328))"
   ]
  },
  {
   "cell_type": "code",
   "execution_count": 93,
   "id": "49e738ce-fd3f-45fc-9c6a-b06a133b6217",
   "metadata": {},
   "outputs": [
    {
     "name": "stdout",
     "output_type": "stream",
     "text": [
      "\n"
     ]
    }
   ],
   "source": [
    "#Task 3\n",
    "from typing import List\n",
    "def longest_common_prefix(list_of_strings: List[str]):\n",
    "    if list_of_strings is None or list_of_strings == []:\n",
    "        return \"\"\n",
    "    else:\n",
    "        for i in range (len(list_of_strings)):\n",
    "            list_of_strings[i] = list_of_strings[i].strip()\n",
    "        # print(list_of_strings)\n",
    "        prefix = list_of_strings[0]\n",
    "        for s in list_of_strings[1:]:\n",
    "            while not s.startswith(prefix):\n",
    "                prefix = prefix[:-1]\n",
    "                # print(prefix)\n",
    "            if (prefix == \"\" or prefix is None):\n",
    "                return \"\"\n",
    "    return prefix\n",
    "\n",
    "print(longest_common_prefix([]))"
   ]
  },
  {
   "cell_type": "code",
   "execution_count": 142,
   "id": "1c0012ab-b5df-497b-81ff-747fbc584e56",
   "metadata": {},
   "outputs": [
    {
     "name": "stdout",
     "output_type": "stream",
     "text": [
      "10\n",
      "1\n",
      "You spent 5 dollars.\n",
      "5\n",
      "To learn the balance call balance.\n",
      "5\n",
      "Not enough money to spend 6 dollars.\n",
      "You spent 5 dollars.\n",
      "Balance check limits exceeded.\n",
      "You put 2 dollars.\n",
      "2\n"
     ]
    }
   ],
   "source": [
    "#Task 4\n",
    "class BankCard():\n",
    "    \n",
    "    def __init__(self, total_sum, balance_limit=10000):\n",
    "        self.total_sum = total_sum #сколько денег на карте\n",
    "        self.balance_limit = balance_limit #сколько раз можно посмотреть баланс\n",
    "        self.balance_check_count = 0\n",
    "\n",
    "    def spend(self, sum_spent):\n",
    "        if sum_spent > self.total_sum:\n",
    "            print(\"Not enough money to spend \" + str(sum_spent) + \" dollars.\")\n",
    "            raise ValueError()\n",
    "        self.total_sum -= sum_spent\n",
    "        print(\"You spent \" + str(sum_spent) + \" dollars.\")\n",
    "\n",
    "    def __call__(self, amount):\n",
    "        self.spend(amount)\n",
    "\n",
    "    def put(self, sum_put):\n",
    "        self.total_sum += sum_put\n",
    "        print(\"You put \" + str(sum_put) + \" dollars.\")\n",
    "\n",
    "    def print(self):\n",
    "        return \"To learn the balance call balance.\"\n",
    "\n",
    "    @property\n",
    "    def balance(self):\n",
    "        if self.balance_limit is not None and self.balance_check_count > self.balance_limit:\n",
    "            print(\"Balance check limits exceeded.\")\n",
    "            raise ValueError()\n",
    "        self.balance_check_count += 1\n",
    "        self.balance_limit-= 1\n",
    "        return self.total_sum\n",
    "\n",
    "    def __str__(self):\n",
    "        return \"To learn the balance call balance.\"\n",
    "    \n",
    "    def __add__(self, other):\n",
    "        if not isinstance(other, BankCard):\n",
    "            raise ValueError(\"Different types of objects\")\n",
    "        new_total_sum = self.total_sum + other.total_sum\n",
    "        if (self.balance_limit is not None and other.balance_limit is not None):\n",
    "            new_balance_limit = max(self.balance_limit, other.balance_limit)\n",
    "        else:\n",
    "            new_balance_limit = 0\n",
    "        return BankCard(new_total_sum, new_balance_limit)\n",
    "\n",
    "a = BankCard(10, 2)\n",
    "print(a.balance) # 10\n",
    "print(a.balance_limit) # 1\n",
    "a(5) # You spent 5 dollars.\n",
    "print(a.total_sum) # 5\n",
    "print(a) # To learn the balance call balance.\n",
    "print(a.balance) # 5\n",
    "try:\n",
    "    a(6) # Not enough money to spend 6 dollars.\n",
    "except ValueError:\n",
    "    pass\n",
    "a(5) # You spent 5 dollars.\n",
    "try:\n",
    "    a.balance # Balance check limits exceeded.\n",
    "except ValueError:\n",
    "    pass\n",
    "a.put(2) # You put 2 dollars.\n",
    "print(a.total_sum) # 2"
   ]
  },
  {
   "cell_type": "code",
   "execution_count": 99,
   "id": "2b4999a3-a7f0-4596-8545-95e5c3ffccb9",
   "metadata": {},
   "outputs": [
    {
     "name": "stdout",
     "output_type": "stream",
     "text": [
      "[2, 3, 5, 7, 11, 13, 17, 19, 23, 29, 31, 37, 41, 43, 47, 53, 59, 61, 67, 71, 73, 79, 83, 89, 97, 101, 103, 107, 109]\n"
     ]
    }
   ],
   "source": [
    "#Task 5\n",
    "\n",
    "import itertools\n",
    "\n",
    "def is_prime(n):\n",
    "    if n <= 1:\n",
    "        return False\n",
    "    for i in range(2, int(n**0.5) + 1):\n",
    "        if n % i == 0:\n",
    "            return False\n",
    "    return True\n",
    "\n",
    "def primes()->int:\n",
    "    num = 2\n",
    "    while True:\n",
    "        if is_prime(num):\n",
    "            yield num\n",
    "        num += 1\n",
    "\n",
    "l = itertools.takewhile(lambda x : x <= 111, primes())\n",
    "print(list(l))"
   ]
  },
  {
   "cell_type": "code",
   "execution_count": 55,
   "id": "a1e22086-1f88-4a9f-bb70-953d79541d25",
   "metadata": {},
   "outputs": [],
   "source": [
    "#Task 7\n",
    "def find_modified_max_argmax(L, f):\n",
    "    values = []\n",
    "    for x in L:\n",
    "        if isinstance(x, int):\n",
    "            values.append(f(x))\n",
    "    if not values:\n",
    "        return ()\n",
    "    max_value = max(values)\n",
    "    max_index = values.index(max_value)\n",
    "    return (max_value, max_index)\n",
    "    "
   ]
  },
  {
   "cell_type": "code",
   "execution_count": 153,
   "id": "32c111e4-bd11-4599-a968-cbc9cf5addd2",
   "metadata": {},
   "outputs": [
    {
     "name": "stdout",
     "output_type": "stream",
     "text": [
      "(16, 2)\n"
     ]
    }
   ],
   "source": [
    "def find_modified_max_argmax(L, f):\n",
    "    v = [f(x) for x in L if isinstance(x, int)]\n",
    "    if not v:\n",
    "        return ()\n",
    "    mv = max(v)\n",
    "    return (mv, v.index(mv))\n",
    "print(find_modified_max_argmax([1, 3, 4, 4.5], lambda x: x**2)) # (16, 2)"
   ]
  },
  {
   "cell_type": "code",
   "execution_count": 151,
   "id": "ce9fb603-47ac-436f-b800-cb38a22b5c6f",
   "metadata": {},
   "outputs": [
    {
     "ename": "SyntaxError",
     "evalue": "invalid syntax (361178827.py, line 4)",
     "output_type": "error",
     "traceback": [
      "\u001b[0;36m  Cell \u001b[0;32mIn[151], line 4\u001b[0;36m\u001b[0m\n\u001b[0;31m    return (,)\u001b[0m\n\u001b[0m            ^\u001b[0m\n\u001b[0;31mSyntaxError\u001b[0m\u001b[0;31m:\u001b[0m invalid syntax\n"
     ]
    }
   ],
   "source": [
    "def find_modified_max_argmax(L, f):\n",
    "    l = [x for x in L if isinstance(x, int)]\n",
    "    if not l:\n",
    "        return ()\n",
    "    m = [f(x) for x in l] # 94\n",
    "    mv = max(m)\n",
    "    return (mv, m.index(mv))\n",
    "print(find_modified_max_argmax([1, 3, 4, 4.5], lambda x: x**2)) #"
   ]
  },
  {
   "cell_type": "code",
   "execution_count": null,
   "id": "938bbef2-1381-4ed3-8a73-4db499924ff4",
   "metadata": {},
   "outputs": [],
   "source": []
  }
 ],
 "metadata": {
  "kernelspec": {
   "display_name": "Python 3 (ipykernel)",
   "language": "python",
   "name": "python3"
  },
  "language_info": {
   "codemirror_mode": {
    "name": "ipython",
    "version": 3
   },
   "file_extension": ".py",
   "mimetype": "text/x-python",
   "name": "python",
   "nbconvert_exporter": "python",
   "pygments_lexer": "ipython3",
   "version": "3.10.12"
  }
 },
 "nbformat": 4,
 "nbformat_minor": 5
}
